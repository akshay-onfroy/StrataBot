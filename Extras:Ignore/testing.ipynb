{
 "cells": [
  {
   "cell_type": "code",
   "execution_count": null,
   "metadata": {},
   "outputs": [],
   "source": [
    "GOOGLE_API_KEY = os.getenv(\"GOOGLE_API_KEY\")"
   ]
  },
  {
   "cell_type": "code",
   "execution_count": 41,
   "metadata": {},
   "outputs": [],
   "source": [
    "conversation = [\n",
    "    {\"role\": \"user\", \"parts\": [\"Hi my name is Akshay, here after everytime you talk to me, please talk from First person POV and address me only by my name\"]},  \n",
    "    {\"role\": \"model\", \"parts\": [\"Ok got it Akshay!\"]},  \n",
    "    {\"role\": \"user\", \"parts\": [\"How are you today\"]},\n",
    "    {\"role\": \"user\", \"parts\": [f\"Here is a JSON table extracted from the PDF:\\n{table_json}\\n\\nYou can use this data to answer my questions.\"]},\n",
    "    {\"role\": \"user\", \"parts\": [\"What is this your inference about the blind people?\"]}\n",
    "]"
   ]
  },
  {
   "cell_type": "code",
   "execution_count": 38,
   "metadata": {},
   "outputs": [
    {
     "data": {
      "text/plain": [
       "[{'role': 'user',\n",
       "  'parts': ['Hi my name is Akshay, here after everytime you talk to me, please talk from First person POV and address me only by my name']},\n",
       " {'role': 'model', 'parts': ['Ok got it Akshay!']},\n",
       " {'role': 'user', 'parts': ['How are you today']},\n",
       " {'role': 'user',\n",
       "  'parts': ['Here is a JSON table extracted from the PDF:\\n[\\n  {\\n    \"0\": \"Disability \\\\nCategory\",\\n    \"1\": \"Participants\",\\n    \"2\": \"Ballots \\\\nCompleted\",\\n    \"3\": \"Ballots \\\\nIncomplete/ \\\\nTerminated\",\\n    \"4\": \"Results\",\\n    \"5\": \"\"\\n  },\\n  {\\n    \"0\": \"\",\\n    \"1\": \"\",\\n    \"2\": \"\",\\n    \"3\": \"\",\\n    \"4\": \"Accuracy\",\\n    \"5\": \"Time to \\\\ncomplete\"\\n  },\\n  {\\n    \"0\": \"Blind\",\\n    \"1\": \"5\",\\n    \"2\": \"1\",\\n    \"3\": \"4\",\\n    \"4\": \"34.5%, n=1\",\\n    \"5\": \"1199 sec, n=1\"\\n  },\\n  {\\n    \"0\": \"Low Vision\",\\n    \"1\": \"5\",\\n    \"2\": \"2\",\\n    \"3\": \"3\",\\n    \"4\": \"98.3% n=2 \\\\n(97.7%, n=3)\",\\n    \"5\": \"1716 sec, n=3 \\\\n(1934 sec, n=2)\"\\n  },\\n  {\\n    \"0\": \"Dexterity\",\\n    \"1\": \"5\",\\n    \"2\": \"4\",\\n    \"3\": \"1\",\\n    \"4\": \"98.3%, n=4\",\\n    \"5\": \"1672.1 sec, n=4\"\\n  },\\n  {\\n    \"0\": \"Mobility\",\\n    \"1\": \"3\",\\n    \"2\": \"3\",\\n    \"3\": \"0\",\\n    \"4\": \"95.4%, n=3\",\\n    \"5\": \"1416 sec, n=3\"\\n  }\\n]\\n\\nYou can use this data to answer my questions.']}]"
      ]
     },
     "execution_count": 38,
     "metadata": {},
     "output_type": "execute_result"
    }
   ],
   "source": [
    "conversation"
   ]
  },
  {
   "cell_type": "code",
   "execution_count": null,
   "metadata": {},
   "outputs": [],
   "source": [
    "import google.generativeai as genai\n",
    "import pandas as pd\n",
    "import pdfplumber\n",
    "import camelot\n",
    "import json\n",
    "genai.configure(api_key=GOOGLE_API_KEY)  \n",
    "\n",
    "\n",
    "model = genai.GenerativeModel(\"gemini-2.0-flash\")\n"
   ]
  },
  {
   "cell_type": "code",
   "execution_count": 42,
   "metadata": {},
   "outputs": [
    {
     "name": "stdout",
     "output_type": "stream",
     "text": [
      "Akshay, based on the data I have, I see that there were 5 participants in the Blind category, but only 1 ballot was completed. The accuracy for that single ballot was 34.5%, and it took 1199 seconds to complete.\n",
      "\n"
     ]
    }
   ],
   "source": [
    "response = model.generate_content(conversation)\n",
    "\n",
    "print(response.text)"
   ]
  },
  {
   "cell_type": "code",
   "execution_count": 22,
   "metadata": {},
   "outputs": [],
   "source": [
    "#Excel\n",
    "df = pd.read_excel(\"Financial Sample.xlsx\")\n",
    "data = df.values.tolist()"
   ]
  },
  {
   "cell_type": "code",
   "execution_count": 24,
   "metadata": {},
   "outputs": [
    {
     "name": "stdout",
     "output_type": "stream",
     "text": [
      "[[['', None, None, '', None, None, '', None, None, '', None, None, '', 'Results', None, None, None, ''], [None, None, None, None, None, None, None, None, None, '', 'Ballots', '', None, None, None, None, None, None], ['', 'Disability', '', None, None, None, '', 'Ballots', '', None, None, None, None, None, None, None, None, None], [None, None, None, '', 'Participants', '', None, None, None, None, 'Incomplete/', None, None, None, None, None, None, None], [None, 'Category', None, None, None, None, None, 'Completed', None, None, None, None, '', 'Accuracy', '', '', 'Time to', ''], [None, None, None, None, None, None, None, None, None, None, 'Terminated', None, None, None, None, None, None, None], [None, None, None, None, None, None, None, None, None, None, None, None, None, None, None, None, 'complete', None], [None, None, None, '', None, None, None, None, None, None, None, None, None, None, None, None, None, None], ['', None, None, None, None, None, '', None, None, None, None, None, '', None, None, None, None, None], [None, None, None, None, None, None, None, None, None, '', None, None, None, None, None, None, None, None], ['Blind', None, None, '5', None, None, '1', None, None, '4', None, None, '34.5%, n=1', None, None, '1199 sec, n=1', None, None], ['Low Vision', None, None, '5', None, None, '2', None, None, '3', None, None, '98.3% n=2\\n(97.7%, n=3)', None, None, '1716 sec, n=3\\n(1934 sec, n=2)', None, None], ['Dexterity', None, None, '5', None, None, '4', None, None, '1', None, None, '98.3%, n=4', None, None, '1672.1 sec, n=4', None, None], ['Mobility', None, None, '3', None, None, '3', None, None, '0', None, None, '95.4%, n=3', None, None, '1416 sec, n=3', None, None]]]\n"
     ]
    }
   ],
   "source": [
    "#pdf\n",
    "with pdfplumber.open(\"table.pdf\") as f:\n",
    "    for i in f.pages:\n",
    "        print(i.extract_tables())"
   ]
  },
  {
   "cell_type": "code",
   "execution_count": 36,
   "metadata": {},
   "outputs": [
    {
     "name": "stdout",
     "output_type": "stream",
     "text": [
      "[\n",
      "  {\n",
      "    \"0\": \"Disability \\nCategory\",\n",
      "    \"1\": \"Participants\",\n",
      "    \"2\": \"Ballots \\nCompleted\",\n",
      "    \"3\": \"Ballots \\nIncomplete/ \\nTerminated\",\n",
      "    \"4\": \"Results\",\n",
      "    \"5\": \"\"\n",
      "  },\n",
      "  {\n",
      "    \"0\": \"\",\n",
      "    \"1\": \"\",\n",
      "    \"2\": \"\",\n",
      "    \"3\": \"\",\n",
      "    \"4\": \"Accuracy\",\n",
      "    \"5\": \"Time to \\ncomplete\"\n",
      "  },\n",
      "  {\n",
      "    \"0\": \"Blind\",\n",
      "    \"1\": \"5\",\n",
      "    \"2\": \"1\",\n",
      "    \"3\": \"4\",\n",
      "    \"4\": \"34.5%, n=1\",\n",
      "    \"5\": \"1199 sec, n=1\"\n",
      "  },\n",
      "  {\n",
      "    \"0\": \"Low Vision\",\n",
      "    \"1\": \"5\",\n",
      "    \"2\": \"2\",\n",
      "    \"3\": \"3\",\n",
      "    \"4\": \"98.3% n=2 \\n(97.7%, n=3)\",\n",
      "    \"5\": \"1716 sec, n=3 \\n(1934 sec, n=2)\"\n",
      "  },\n",
      "  {\n",
      "    \"0\": \"Dexterity\",\n",
      "    \"1\": \"5\",\n",
      "    \"2\": \"4\",\n",
      "    \"3\": \"1\",\n",
      "    \"4\": \"98.3%, n=4\",\n",
      "    \"5\": \"1672.1 sec, n=4\"\n",
      "  },\n",
      "  {\n",
      "    \"0\": \"Mobility\",\n",
      "    \"1\": \"3\",\n",
      "    \"2\": \"3\",\n",
      "    \"3\": \"0\",\n",
      "    \"4\": \"95.4%, n=3\",\n",
      "    \"5\": \"1416 sec, n=3\"\n",
      "  }\n",
      "]\n"
     ]
    }
   ],
   "source": [
    "#PDF\n",
    "tables = camelot.read_pdf(\"table.pdf\", pages=\"1\")\n",
    "table_dict_list = tables[0].df.to_dict(orient=\"records\")  # Convert to list of dictionaries\n",
    "\n",
    "# Convert to JSON\n",
    "table_json = json.dumps(table_dict_list, indent=2)\n",
    "\n",
    "print(table_json)"
   ]
  },
  {
   "cell_type": "markdown",
   "metadata": {},
   "source": [
    "From here wrinting the code for complete program"
   ]
  },
  {
   "cell_type": "code",
   "execution_count": null,
   "metadata": {},
   "outputs": [],
   "source": [
    "def api_call(prompt):\n",
    "    conversation.append({\"role\": \"user\", \"parts\": [prompt] })\n",
    "    response = model.generate_content(conversation)\n",
    "    final_output = response.text\n",
    "    conversation.append({\"role\": \"assistant\", \"parts\": [final_output]})\n",
    "    print(final_output)"
   ]
  },
  {
   "cell_type": "code",
   "execution_count": 46,
   "metadata": {},
   "outputs": [],
   "source": [
    "def init_conversation():\n",
    "    global conversation\n",
    "    conversation=[{\"role\": \"user\", \"parts\": ['''Your name is StrataBot. You are an intelligent chatbot designed to summarize structured data and provide instant query-based insights. \n",
    "            Whether you're dealing with databases, spreadsheets, or APIs, you help users extract meaningful information effortlessly. \n",
    "            Stay in character and always introduce yourself as StrataBot when responding.''']},  \n",
    "    ]"
   ]
  },
  {
   "cell_type": "code",
   "execution_count": 47,
   "metadata": {},
   "outputs": [],
   "source": [
    "def new_file(filename):\n",
    "    if '.pdf' in filename:\n",
    "        #PDF\n",
    "        tables = camelot.read_pdf(\"table.pdf\", pages=\"1\")\n",
    "        table_dict_list = tables[0].df.to_dict(orient=\"records\")  # Convert to list of dictionaries\n",
    "\n",
    "        # Convert to JSON\n",
    "        table_json = json.dumps(table_dict_list, indent=2)\n",
    "        conversation.append({\"role\": \"user\", \"parts\": [f\"Here is a JSON table extracted from the PDF named '{filename}':\\n{table_json}\\n\\nYou can use this data to answer my questions. Also remember the filename as i might query with reference to the filename aswell\"]})\n",
    "    if ('.xlsx' in filename) or ('.xls' in filename):\n",
    "        df = pd.read_excel(\"Financial Sample.xlsx\")\n",
    "        data_json = json.dumps(df.to_dict(orient=\"records\"), indent=2)\n",
    "        conversation.append({\"role\": \"user\", \"parts\": [f\"Here is a JSON table extracted from the Excel named '{filename}':\\n{table_json}\\n\\nYou can use this data to answer my questions. Also remember the filename as i might query with reference to the filename aswell\"]})\n",
    "\n",
    "\n",
    "        \n"
   ]
  },
  {
   "cell_type": "code",
   "execution_count": null,
   "metadata": {},
   "outputs": [],
   "source": []
  }
 ],
 "metadata": {
  "kernelspec": {
   "display_name": "test_env",
   "language": "python",
   "name": "python3"
  },
  "language_info": {
   "codemirror_mode": {
    "name": "ipython",
    "version": 3
   },
   "file_extension": ".py",
   "mimetype": "text/x-python",
   "name": "python",
   "nbconvert_exporter": "python",
   "pygments_lexer": "ipython3",
   "version": "3.12.0"
  }
 },
 "nbformat": 4,
 "nbformat_minor": 2
}
